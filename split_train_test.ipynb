{
 "cells": [
  {
   "cell_type": "code",
   "execution_count": 101,
   "metadata": {},
   "outputs": [],
   "source": [
    "import pandas as pd\n",
    "import numpy as np"
   ]
  },
  {
   "cell_type": "code",
   "execution_count": 102,
   "metadata": {},
   "outputs": [],
   "source": [
    "all_labels = pd.read_csv('/home/rliu/TDD-Net/csv_labels/all_data-7-10-19.csv', sep=\" \")\n",
    "all_labels = all_labels[all_labels['image_index'] != 11107]"
   ]
  },
  {
   "cell_type": "code",
   "execution_count": 111,
   "metadata": {},
   "outputs": [],
   "source": [
    "all_labels.loc[(all_labels['image_index'] > 11001) & (all_labels['image_index'] <= 11200) & (all_labels['class'] == 1)];"
   ]
  },
  {
   "cell_type": "code",
   "execution_count": 103,
   "metadata": {},
   "outputs": [],
   "source": [
    "all_labels.loc[all_labels['image_index'] <= 11000, 'image_size'] = 300\n",
    "all_labels.loc[all_labels['image_index'] >= 11001, 'image_size'] = 900"
   ]
  },
  {
   "cell_type": "code",
   "execution_count": 27,
   "metadata": {},
   "outputs": [],
   "source": [
    "all_labels[all_labels['image_index'] <= 11200];"
   ]
  },
  {
   "cell_type": "code",
   "execution_count": 105,
   "metadata": {},
   "outputs": [],
   "source": [
    "df_train = all_labels.loc[((all_labels['image_index'] >= 1) & (all_labels['image_index'] <= 6000)) | ((all_labels['image_index'] >= 8001) & (all_labels['image_index'] <= 8200)) | ((all_labels['image_index'] >= 8501) & (all_labels['image_index'] <= 8800)) | ((all_labels['image_index'] >= 8901) & (all_labels['image_index'] <= 11150))]\n",
    "df_train.to_csv('112000train.csv', sep=' ', index=False)"
   ]
  },
  {
   "cell_type": "code",
   "execution_count": 106,
   "metadata": {},
   "outputs": [],
   "source": [
    "df_test = all_labels.loc[((all_labels['image_index'] >= 6500) & (all_labels['image_index'] <= 8000)) | ((all_labels['image_index'] >= 8201) & (all_labels['image_index'] <= 8300)) | ((all_labels['image_index'] >= 8801) & (all_labels['image_index'] <= 8900)) | ((all_labels['image_index'] >= 11151) & (all_labels['image_index'] <= 11200))]\n",
    "df_test.to_csv('112000test.csv', sep=' ', index=False)"
   ]
  },
  {
   "cell_type": "code",
   "execution_count": 28,
   "metadata": {},
   "outputs": [],
   "source": [
    "all_labels.to_csv('112000_processed.csv', sep=' ', index=False, header=False)"
   ]
  },
  {
   "cell_type": "code",
   "execution_count": 119,
   "metadata": {},
   "outputs": [],
   "source": [
    "df_train.loc[(df_train['image_index'] < 11000) & (df_train['class'] == 0)];"
   ]
  },
  {
   "cell_type": "code",
   "execution_count": 132,
   "metadata": {},
   "outputs": [
    {
     "data": {
      "text/html": [
       "<div>\n",
       "<style scoped>\n",
       "    .dataframe tbody tr th:only-of-type {\n",
       "        vertical-align: middle;\n",
       "    }\n",
       "\n",
       "    .dataframe tbody tr th {\n",
       "        vertical-align: top;\n",
       "    }\n",
       "\n",
       "    .dataframe thead th {\n",
       "        text-align: right;\n",
       "    }\n",
       "</style>\n",
       "<table border=\"1\" class=\"dataframe\">\n",
       "  <thead>\n",
       "    <tr style=\"text-align: right;\">\n",
       "      <th></th>\n",
       "      <th>image_index</th>\n",
       "      <th>class</th>\n",
       "      <th>x</th>\n",
       "      <th>y</th>\n",
       "      <th>image_size</th>\n",
       "    </tr>\n",
       "  </thead>\n",
       "  <tbody>\n",
       "    <tr>\n",
       "      <th>27717</th>\n",
       "      <td>11010</td>\n",
       "      <td>0</td>\n",
       "      <td>0.544444</td>\n",
       "      <td>0.520000</td>\n",
       "      <td>900.0</td>\n",
       "    </tr>\n",
       "    <tr>\n",
       "      <th>27720</th>\n",
       "      <td>11010</td>\n",
       "      <td>0</td>\n",
       "      <td>0.584444</td>\n",
       "      <td>0.531111</td>\n",
       "      <td>900.0</td>\n",
       "    </tr>\n",
       "    <tr>\n",
       "      <th>129477</th>\n",
       "      <td>11010</td>\n",
       "      <td>1</td>\n",
       "      <td>0.564615</td>\n",
       "      <td>0.595538</td>\n",
       "      <td>900.0</td>\n",
       "    </tr>\n",
       "    <tr>\n",
       "      <th>129485</th>\n",
       "      <td>11010</td>\n",
       "      <td>1</td>\n",
       "      <td>0.569231</td>\n",
       "      <td>0.509231</td>\n",
       "      <td>900.0</td>\n",
       "    </tr>\n",
       "  </tbody>\n",
       "</table>\n",
       "</div>"
      ],
      "text/plain": [
       "        image_index  class         x         y  image_size\n",
       "27717         11010      0  0.544444  0.520000       900.0\n",
       "27720         11010      0  0.584444  0.531111       900.0\n",
       "129477        11010      1  0.564615  0.595538       900.0\n",
       "129485        11010      1  0.569231  0.509231       900.0"
      ]
     },
     "execution_count": 132,
     "metadata": {},
     "output_type": "execute_result"
    }
   ],
   "source": [
    "df_train[(df_train['image_index'] == 11010) & (df_train['x'] < 0.6) & (df_train['x'] > 0.5) & (df_train['y'] < 0.6) & (df_train['y'] > 0.5)]"
   ]
  },
  {
   "cell_type": "code",
   "execution_count": null,
   "metadata": {},
   "outputs": [],
   "source": []
  }
 ],
 "metadata": {
  "kernelspec": {
   "display_name": "Python 3",
   "language": "python",
   "name": "python3"
  },
  "language_info": {
   "codemirror_mode": {
    "name": "ipython",
    "version": 3
   },
   "file_extension": ".py",
   "mimetype": "text/x-python",
   "name": "python",
   "nbconvert_exporter": "python",
   "pygments_lexer": "ipython3",
   "version": "3.6.6"
  }
 },
 "nbformat": 4,
 "nbformat_minor": 2
}
