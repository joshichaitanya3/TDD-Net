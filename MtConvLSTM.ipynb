{
 "cells": [
  {
   "cell_type": "code",
   "execution_count": 1,
   "metadata": {},
   "outputs": [],
   "source": [
    "import torch\n",
    "import torch.nn as nn\n",
    "from torch.autograd import Variable\n",
    "from MtConvLSTM import *\n",
    "import numpy as np\n",
    "import os"
   ]
  },
  {
   "cell_type": "code",
   "execution_count": 2,
   "metadata": {},
   "outputs": [],
   "source": [
    "os.environ[\"CUDA_VISIBLE_DEVICES\"]=\"1\""
   ]
  },
  {
   "cell_type": "code",
   "execution_count": 4,
   "metadata": {},
   "outputs": [
    {
     "name": "stdout",
     "output_type": "stream",
     "text": [
      "MtConvLSTM(\n",
      "  (cell_list): ModuleList(\n",
      "    (0): ModuleList(\n",
      "      (0): ConvLSTMCell(\n",
      "        (conv): Conv2d(19, 64, kernel_size=(3, 3), stride=(1, 1), padding=(1, 1))\n",
      "      )\n",
      "      (1): ConvLSTMCell(\n",
      "        (conv): Conv2d(48, 128, kernel_size=(3, 3), stride=(1, 1), padding=(1, 1))\n",
      "      )\n",
      "      (2): ConvLSTMCell(\n",
      "        (conv): Conv2d(96, 256, kernel_size=(3, 3), stride=(1, 1), padding=(1, 1))\n",
      "      )\n",
      "      (3): Conv2d(112, 1, kernel_size=(1, 1), stride=(1, 1))\n",
      "    )\n",
      "    (1): ModuleList(\n",
      "      (0): ConvLSTMCell(\n",
      "        (conv): Conv2d(19, 64, kernel_size=(5, 5), stride=(1, 1), padding=(2, 2))\n",
      "      )\n",
      "      (1): ConvLSTMCell(\n",
      "        (conv): Conv2d(48, 128, kernel_size=(3, 3), stride=(1, 1), padding=(1, 1))\n",
      "      )\n",
      "      (2): ConvLSTMCell(\n",
      "        (conv): Conv2d(96, 256, kernel_size=(3, 3), stride=(1, 1), padding=(1, 1))\n",
      "      )\n",
      "      (3): Conv2d(112, 1, kernel_size=(1, 1), stride=(1, 1))\n",
      "    )\n",
      "    (2): ModuleList(\n",
      "      (0): ConvLSTMCell(\n",
      "        (conv): Conv2d(35, 128, kernel_size=(5, 5), stride=(1, 1), padding=(2, 2))\n",
      "      )\n",
      "      (1): ConvLSTMCell(\n",
      "        (conv): Conv2d(96, 256, kernel_size=(5, 5), stride=(1, 1), padding=(2, 2))\n",
      "      )\n",
      "      (2): ConvLSTMCell(\n",
      "        (conv): Conv2d(192, 512, kernel_size=(5, 5), stride=(1, 1), padding=(2, 2))\n",
      "      )\n",
      "      (3): Conv2d(224, 1, kernel_size=(1, 1), stride=(1, 1))\n",
      "    )\n",
      "    (3): ModuleList(\n",
      "      (0): ConvLSTMCell(\n",
      "        (conv): Conv2d(35, 128, kernel_size=(7, 7), stride=(1, 1), padding=(3, 3))\n",
      "      )\n",
      "      (1): ConvLSTMCell(\n",
      "        (conv): Conv2d(96, 256, kernel_size=(5, 5), stride=(1, 1), padding=(2, 2))\n",
      "      )\n",
      "      (2): ConvLSTMCell(\n",
      "        (conv): Conv2d(192, 512, kernel_size=(5, 5), stride=(1, 1), padding=(2, 2))\n",
      "      )\n",
      "      (3): ConvLSTMCell(\n",
      "        (conv): Conv2d(256, 512, kernel_size=(5, 5), stride=(1, 1), padding=(2, 2))\n",
      "      )\n",
      "      (4): Conv2d(352, 1, kernel_size=(1, 1), stride=(1, 1))\n",
      "    )\n",
      "  )\n",
      ")\n"
     ]
    }
   ],
   "source": [
    "model = MtConvLSTM(input_size=(128,128),\n",
    "                 input_dim=2,\n",
    "                 output_dim=1,\n",
    "                 hidden_dim=[[16,32,64],[16,32,64],[32,64,128],[32,64,128,128]],\n",
    "                 kernel_size=[[3,3,3],[5,3,3],[5,5,5],[7,5,5,5]],\n",
    "                 num_layers=[3,3,3,4],\n",
    "                 batch_first=True,\n",
    "                 num_scale=4,\n",
    "                 bias=True,\n",
    "                 return_all_layers=True).cuda()\n",
    "print(model)"
   ]
  },
  {
   "cell_type": "code",
   "execution_count": 5,
   "metadata": {},
   "outputs": [],
   "source": [
    "input = Variable(torch.randn(2, 5, 2, 128, 128)).cuda()\n",
    "target = Variable(torch.randn(2, 5, 1, 128, 128)).double().cuda()\n",
    "\n",
    "layer_output_list, last_state_list, pred_output, pred_image_list = model(input)"
   ]
  },
  {
   "cell_type": "code",
   "execution_count": 6,
   "metadata": {},
   "outputs": [
    {
     "data": {
      "text/plain": [
       "(4, 4, 4, torch.Size([2, 1, 128, 128]))"
      ]
     },
     "execution_count": 6,
     "metadata": {},
     "output_type": "execute_result"
    }
   ],
   "source": [
    "len(layer_output_list), len(last_state_list), len(pred_output), pred_image_list[0].size()"
   ]
  },
  {
   "cell_type": "code",
   "execution_count": 7,
   "metadata": {},
   "outputs": [
    {
     "data": {
      "text/plain": [
       "5"
      ]
     },
     "execution_count": 7,
     "metadata": {},
     "output_type": "execute_result"
    }
   ],
   "source": [
    "len(pred_image_list)"
   ]
  },
  {
   "cell_type": "code",
   "execution_count": null,
   "metadata": {},
   "outputs": [],
   "source": []
  }
 ],
 "metadata": {
  "kernelspec": {
   "display_name": "Python 3",
   "language": "python",
   "name": "python3"
  },
  "language_info": {
   "codemirror_mode": {
    "name": "ipython",
    "version": 3
   },
   "file_extension": ".py",
   "mimetype": "text/x-python",
   "name": "python",
   "nbconvert_exporter": "python",
   "pygments_lexer": "ipython3",
   "version": "3.6.6"
  }
 },
 "nbformat": 4,
 "nbformat_minor": 2
}
