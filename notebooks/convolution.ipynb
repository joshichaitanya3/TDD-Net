{
 "cells": [
  {
   "cell_type": "code",
   "execution_count": 1,
   "metadata": {},
   "outputs": [],
   "source": [
    "import pandas as pd\n",
    "import numpy as np\n",
    "from PIL import Image\n",
    "from PIL import ImageOps\n",
    "import PIL\n",
    "import torch, torchvision\n",
    "from torchvision import transforms, datasets\n",
    "from torch.utils.data import Dataset, DataLoader\n",
    "import matplotlib.pyplot as plt\n",
    "from dataset import defectDataset_convolution\n",
    "import random\n",
    "import math\n",
    "import seaborn\n",
    "from  matplotlib import pyplot\n",
    "import torch.nn.functional as F\n",
    "import matplotlib.image as mpimg\n",
    "import torch.nn as nn\n",
    "from scipy import ndimage as ndi\n",
    "import matplotlib.pyplot as plt\n",
    "from skimage.feature import peak_local_max\n",
    "from skimage import data, img_as_float"
   ]
  },
  {
   "cell_type": "code",
   "execution_count": 17,
   "metadata": {},
   "outputs": [],
   "source": [
    "step_size = 2\n",
    "window_size = 45\n",
    "batch_size = 512\n",
    "num_workers = 4\n",
    "output_path = '/home/rliu/defect_classifier/convolution_test/'\n",
    "df_yolo = pd.read_csv('/home/rliu/github/defect_classifier/yolo2_dm/results/test_yolo.csv', sep=' ')\n",
    "df_test = pd.read_csv('/home/rliu/yolo2/v2_pytorch_yolo2/data/an_data/VOCdevkit/VOC2007/csv_labels/test.csv', sep=\" \")"
   ]
  },
  {
   "cell_type": "code",
   "execution_count": 18,
   "metadata": {},
   "outputs": [
    {
     "data": {
      "text/plain": [
       "(1699,)"
      ]
     },
     "execution_count": 18,
     "metadata": {},
     "output_type": "execute_result"
    }
   ],
   "source": [
    "df_test.image_index.unique().shape"
   ]
  },
  {
   "cell_type": "code",
   "execution_count": 4,
   "metadata": {},
   "outputs": [],
   "source": [
    "def create_circular_mask(h, w, center=None, radius=None):\n",
    "    if center is None: # use the middle of the image\n",
    "        center = [int(w/2), int(h/2)]\n",
    "    if radius is None: # use the smallest distance between the center and image walls\n",
    "        radius = min(center[0], center[1], w-center[0], h-center[1])\n",
    "\n",
    "    Y, X = np.ogrid[:h, :w]\n",
    "    dist_from_center = np.sqrt((X - center[0])**2 + (Y-center[1])**2)\n",
    "\n",
    "    mask = dist_from_center <= radius\n",
    "    mask = mask.astype(int)\n",
    "    return mask\n",
    "\n",
    "mask = create_circular_mask(200,200)"
   ]
  },
  {
   "cell_type": "code",
   "execution_count": 5,
   "metadata": {},
   "outputs": [],
   "source": [
    "class Net(nn.Module):\n",
    "    def __init__(self, input_size, hidden_size, num_classes):\n",
    "        super(Net, self).__init__()                    # Inherited from the parent class nn.Module\n",
    "        self.fc1 = nn.Linear(input_size, hidden_size)  # 1st Full-Connected Layer: 10 (input data) -> 500 (hidden node)\n",
    "        self.relu = nn.ReLU()                          # Non-Linear ReLU Layer: max(0,x)\n",
    "        self.fc2 = nn.Linear(hidden_size, num_classes) # 2nd Full-Connected Layer: 500 (hidden node) -> 5 (output class)\n",
    "#         self.relu = nn.ReLU()                          # Non-Linear ReLU Layer: max(0,x)\n",
    "#         self.fc3 = nn.Linear(hidden_size, num_classes) # 3rd Full-Connected Layer: 500 (hidden node) -> 5 (output class)\n",
    "    \n",
    "    def forward(self, x):                              # Forward pass: stacking each layer together\n",
    "        out = self.fc1(x)\n",
    "        out = self.relu(out)\n",
    "        out = self.fc2(out)\n",
    "#         out = self.relu(out)\n",
    "#         out = self.fc3(out)\n",
    "        return out"
   ]
  },
  {
   "cell_type": "code",
   "execution_count": 6,
   "metadata": {},
   "outputs": [],
   "source": [
    "data_transform = transforms.Compose([\n",
    "        transforms.RandomResizedCrop(200, scale=(1, 1), ratio=(1, 1)),\n",
    "        transforms.ToTensor(),\n",
    "        transforms.Normalize(mean=[0.3019],\n",
    "                             std=[0.1909])\n",
    "    ])"
   ]
  },
  {
   "cell_type": "code",
   "execution_count": 16,
   "metadata": {},
   "outputs": [
    {
     "name": "stdout",
     "output_type": "stream",
     "text": [
      "GPU in use\n"
     ]
    },
    {
     "data": {
      "text/plain": [
       "DataParallel(\n",
       "  (module): Net(\n",
       "    (fc1): Linear(in_features=10, out_features=100, bias=True)\n",
       "    (relu): ReLU()\n",
       "    (fc2): Linear(in_features=100, out_features=5, bias=True)\n",
       "  )\n",
       ")"
      ]
     },
     "execution_count": 16,
     "metadata": {},
     "output_type": "execute_result"
    }
   ],
   "source": [
    "classes = [\"pos\",\"neg\",\"pos_o\",\"nuc\",\"non\"]\n",
    "num_of_classes = len(classes)\n",
    "model_uniform = torch.load('/home/rliu/defect_classifier/models/python/ml/res34_600epo_uniform_01-07-18.model')\n",
    "model_uniform.eval()\n",
    "model_hard = torch.load('/home/rliu/defect_classifier/models/python/ml/res34_600epo_hard_01-07-18.model')\n",
    "model_hard.eval()\n",
    "model_FNN = torch.load('/home/rliu/defect_classifier/models/python/ml/2x100_28epo_yolo_01-13-18.model')\n",
    "model_FNN.eval()\n",
    "use_gpu = torch.cuda.is_available()\n",
    "if use_gpu:\n",
    "    print(\"GPU in use\")\n",
    "device = torch.device(\"cuda:0\" if torch.cuda.is_available() else \"cpu\")\n",
    "if use_gpu:\n",
    "    model_uniform.cuda()\n",
    "    model_uniform = torch.nn.DataParallel(model_uniform, device_ids=[0])\n",
    "    model_hard.cuda()\n",
    "    model_hard = torch.nn.DataParallel(model_hard, device_ids=[0])\n",
    "    model_FNN.cuda()\n",
    "    model_FNN = torch.nn.DataParallel(model_FNN, device_ids=[0])\n",
    "model_uniform.train(False)\n",
    "model_hard.train(False)\n",
    "model_FNN.train(False)"
   ]
  },
  {
   "cell_type": "code",
   "execution_count": 98,
   "metadata": {},
   "outputs": [
    {
     "name": "stdout",
     "output_type": "stream",
     "text": [
      "Test loader ready!\n",
      "006501.jpg processed\n",
      "Test loader ready!\n",
      "006502.jpg processed\n",
      "Test loader ready!\n",
      "006503.jpg processed\n",
      "Test loader ready!\n",
      "006504.jpg processed\n",
      "Test loader ready!\n",
      "006505.jpg processed\n",
      "Test loader ready!\n",
      "006506.jpg processed\n",
      "Test loader ready!\n",
      "006507.jpg processed\n",
      "Test loader ready!\n",
      "006508.jpg processed\n",
      "Test loader ready!\n",
      "006509.jpg processed\n",
      "Test loader ready!\n",
      "006510.jpg processed\n"
     ]
    }
   ],
   "source": [
    "since = time.time()\n",
    "\n",
    "for i in np.arange(6501,6511):\n",
    "    testset = defectDataset_convolution(image_index = i, img_path='/home/rliu/yolo2/v2_pytorch_yolo2/data/an_data/VOCdevkit/VOC2007/JPEGImages/', \n",
    "                 coord_path = '/home/rliu/coord_list.npy',window_size=45, mask = create_circular_mask(200,200), transforms=data_transform)\n",
    "    testloader = torch.utils.data.DataLoader(testset,\n",
    "                                                     batch_size=batch_size, shuffle=False,\n",
    "                                                     num_workers=num_workers)\n",
    "#     print('Test loader ready!')\n",
    "    with torch.no_grad():\n",
    "        confidence_pos, confidence_neg, confidence_pos_o, confidence_nuc, confidence_non = np.array([]), np.array([]), np.array([]), np.array([]), np.array([])\n",
    "        for inputs in testloader:\n",
    "            with torch.cuda.device(0):\n",
    "                inputs = inputs.cuda()\n",
    "            outputs_uniform = model_uniform(inputs)\n",
    "            outputs_hard = model_hard(inputs)\n",
    "            outputs_in = torch.cat((outputs_uniform, outputs_hard), dim=1)\n",
    "            outputs_out = model_FNN(outputs_in)\n",
    "            confidences = F.softmax(outputs_out, dim=1)\n",
    "            confidence_pos = np.append(confidence_pos, confidences[:,0].cpu().numpy())\n",
    "            confidence_neg = np.append(confidence_neg, confidences[:,1].cpu().numpy())\n",
    "            confidence_pos_o = np.append(confidence_pos_o, confidences[:,2].cpu().numpy())\n",
    "            confidence_nuc = np.append(confidence_nuc, confidences[:,3].cpu().numpy())\n",
    "            confidence_non = np.append(confidence_non, confidences[:,4].cpu().numpy())\n",
    "        confidence_pos = confidence_pos.reshape([150,150])\n",
    "        confidence_neg = confidence_neg.reshape([150,150])\n",
    "        confidence_pos_o = confidence_pos_o.reshape([150,150])\n",
    "        confidence_nuc = confidence_nuc.reshape([150,150])\n",
    "        confidence_non = confidence_non.reshape([150,150])\n",
    "        \n",
    "        np.save(output_path + 'pos/' + '%06.0f' % i, confidence_pos)\n",
    "        np.save(output_path + 'neg/' + '%06.0f' % i, confidence_neg)\n",
    "        np.save(output_path + 'pos_o/' + '%06.0f' % i, confidence_pos_o)\n",
    "        np.save(output_path + 'nuc/' + '%06.0f' % i, confidence_nuc)\n",
    "        np.save(output_path + 'non/' + '%06.0f' % i, confidence_non)\n",
    "        print('%06.0f.jpg' % i + ' processed')\n",
    "time_elapsed = time.time() - since\n",
    "print('Detecting complete in {:.0f}m {:.0f}s'.format(time_elapsed // 60, time_elapsed % 60))"
   ]
  },
  {
   "cell_type": "code",
   "execution_count": 86,
   "metadata": {},
   "outputs": [],
   "source": [
    "confidence_pos = confidence_pos.reshape([150,150])"
   ]
  },
  {
   "cell_type": "code",
   "execution_count": 92,
   "metadata": {},
   "outputs": [
    {
     "data": {
      "text/plain": [
       "<matplotlib.image.AxesImage at 0x7fd2acd9f470>"
      ]
     },
     "execution_count": 92,
     "metadata": {},
     "output_type": "execute_result"
    },
    {
     "data": {
      "image/png": "[encoded data removed]",
      "text/plain": [
       "<Figure size 432x288 with 1 Axes>"
      ]
     },
     "metadata": {
      "needs_background": "light"
     },
     "output_type": "display_data"
    }
   ],
   "source": [
    "confidence_pos_o = confidence_pos_o.reshape([150,150])\n",
    "plt.imshow(confidence_pos_o)"
   ]
  },
  {
   "cell_type": "code",
   "execution_count": 42,
   "metadata": {},
   "outputs": [],
   "source": [
    "confidence_pos = np.array([])\n",
    "confidence_pos = np.append(confidence_pos, confidences[:,0].cpu().numpy())"
   ]
  },
  {
   "cell_type": "code",
   "execution_count": 47,
   "metadata": {},
   "outputs": [
    {
     "data": {
      "text/plain": [
       "(1005,)"
      ]
     },
     "execution_count": 47,
     "metadata": {},
     "output_type": "execute_result"
    }
   ],
   "source": [
    "confidence_pos = np.append(confidence_pos, confidences[:,0].cpu().numpy())\n",
    "confidence_pos.shape"
   ]
  },
  {
   "cell_type": "code",
   "execution_count": 48,
   "metadata": {},
   "outputs": [
    {
     "data": {
      "text/plain": [
       "array([[0.00047639, 0.00040763, 0.00036647, ..., 0.00041625, 0.00041842,\n",
       "        0.00043007],\n",
       "       [0.00042846, 0.00041612, 0.00042211, ..., 0.00043208, 0.00042155,\n",
       "        0.00041038],\n",
       "       [0.00039553, 0.00038518, 0.00037936, ..., 0.00042468, 0.00042661,\n",
       "        0.0004228 ],\n",
       "       [0.00042986, 0.00044521, 0.00049876, ..., 0.00097901, 0.00101091,\n",
       "        0.00098712],\n",
       "       [0.00093081, 0.00088574, 0.00088503, ..., 0.00026629, 0.00026412,\n",
       "        0.00025841]])"
      ]
     },
     "execution_count": 48,
     "metadata": {},
     "output_type": "execute_result"
    }
   ],
   "source": [
    "confidence_pos.reshape([5,201])"
   ]
  },
  {
   "cell_type": "code",
   "execution_count": 45,
   "metadata": {},
   "outputs": [],
   "source": [
    "def sliding_window(image, stepSize, windowSize, xmin, xmax, ymin, ymax):\n",
    "    print(xmin,xmax,ymin,ymax)\n",
    "    for x in range(xmin, xmax, stepSize):\n",
    "        for y in range(ymin, ymax, stepSize):\n",
    "            yield (x, y, image.crop(box=(x - windowSize/2,y - windowSize/2, x + windowSize/2, y + windowSize/2)))"
   ]
  },
  {
   "cell_type": "code",
   "execution_count": 72,
   "metadata": {},
   "outputs": [],
   "source": [
    "def convolution(image, stepSize):\n",
    "    coord_list = np.empty((0,2), int)\n",
    "    for y in range(0, image.size[1], stepSize):\n",
    "        for x in range(0, image.size[0], stepSize):\n",
    "            coord_list = np.append(coord_list, [[x,y]], axis=0)\n",
    "    return coord_list"
   ]
  },
  {
   "cell_type": "code",
   "execution_count": 73,
   "metadata": {},
   "outputs": [],
   "source": [
    "img = Image.open('/home/rliu/yolo2/v2_pytorch_yolo2/data/an_data/VOCdevkit/VOC2007/JPEGImages/006501.jpg').convert('L')\n",
    "img = torchvision.transforms.functional.resize(img, (300,300), interpolation=2)\n",
    "coord_list = convolution(img, 2)"
   ]
  },
  {
   "cell_type": "code",
   "execution_count": 74,
   "metadata": {},
   "outputs": [
    {
     "data": {
      "text/plain": [
       "(22500, 2)"
      ]
     },
     "execution_count": 74,
     "metadata": {},
     "output_type": "execute_result"
    }
   ],
   "source": [
    "coord_list.shape"
   ]
  },
  {
   "cell_type": "code",
   "execution_count": 75,
   "metadata": {},
   "outputs": [],
   "source": [
    "output_path = '/home/rliu/coord_list.npy'\n",
    "np.save(output_path, coord_list)"
   ]
  },
  {
   "cell_type": "code",
   "execution_count": 76,
   "metadata": {},
   "outputs": [
    {
     "data": {
      "text/plain": [
       "array([[  0,   0],\n",
       "       [  2,   0],\n",
       "       [  4,   0],\n",
       "       ...,\n",
       "       [294, 298],\n",
       "       [296, 298],\n",
       "       [298, 298]])"
      ]
     },
     "execution_count": 76,
     "metadata": {},
     "output_type": "execute_result"
    }
   ],
   "source": [
    "np.load(output_path)"
   ]
  },
  {
   "cell_type": "code",
   "execution_count": 77,
   "metadata": {},
   "outputs": [],
   "source": [
    "x,y=coord_list[100]"
   ]
  },
  {
   "cell_type": "code",
   "execution_count": 78,
   "metadata": {},
   "outputs": [
    {
     "data": {
      "text/plain": [
       "22500"
      ]
     },
     "execution_count": 78,
     "metadata": {},
     "output_type": "execute_result"
    }
   ],
   "source": [
    "coord_list.shape[0]"
   ]
  },
  {
   "cell_type": "code",
   "execution_count": 80,
   "metadata": {},
   "outputs": [
    {
     "data": {
      "text/plain": [
       "array([0, 2])"
      ]
     },
     "execution_count": 80,
     "metadata": {},
     "output_type": "execute_result"
    }
   ],
   "source": [
    "coord_list[150]"
   ]
  },
  {
   "cell_type": "code",
   "execution_count": 2,
   "metadata": {},
   "outputs": [
    {
     "data": {
      "text/plain": [
       "<matplotlib.image.AxesImage at 0x7f7ffd4e2b38>"
      ]
     },
     "execution_count": 2,
     "metadata": {},
     "output_type": "execute_result"
    },
    {
     "data": {
      "image/png": "[encoded data removed]",
      "text/plain": [
       "<Figure size 432x288 with 1 Axes>"
      ]
     },
     "metadata": {
      "needs_background": "light"
     },
     "output_type": "display_data"
    }
   ],
   "source": [
    "plt.imshow(np.load('/home/rliu/defect_classifier/convolution_test/neg/006501.npy'))"
   ]
  },
  {
   "cell_type": "code",
   "execution_count": null,
   "metadata": {},
   "outputs": [],
   "source": []
  }
 ],
 "metadata": {
  "kernelspec": {
   "display_name": "Python 3",
   "language": "python",
   "name": "python3"
  },
  "language_info": {
   "codemirror_mode": {
    "name": "ipython",
    "version": 3
   },
   "file_extension": ".py",
   "mimetype": "text/x-python",
   "name": "python",
   "nbconvert_exporter": "python",
   "pygments_lexer": "ipython3",
   "version": "3.6.6"
  }
 },
 "nbformat": 4,
 "nbformat_minor": 2
}
