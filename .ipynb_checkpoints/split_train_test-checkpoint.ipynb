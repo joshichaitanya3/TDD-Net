{
 "cells": [
  {
   "cell_type": "code",
   "execution_count": 33,
   "metadata": {},
   "outputs": [],
   "source": [
    "import pandas as pd\n",
    "import numpy as np"
   ]
  },
  {
   "cell_type": "code",
   "execution_count": 23,
   "metadata": {},
   "outputs": [],
   "source": [
    "all_labels = pd.read_csv('/home/rliu/TDD-Net/csv_labels/all_data-7-10-19.csv', sep=\" \")"
   ]
  },
  {
   "cell_type": "code",
   "execution_count": 24,
   "metadata": {},
   "outputs": [],
   "source": [
    "all_labels.loc[all_labels['image_index'] <= 11000, 'image_size'] = 300\n",
    "all_labels.loc[all_labels['image_index'] >= 11001, 'image_size'] = 900"
   ]
  },
  {
   "cell_type": "code",
   "execution_count": 27,
   "metadata": {},
   "outputs": [],
   "source": [
    "all_labels[all_labels['image_index'] <= 11200];"
   ]
  },
  {
   "cell_type": "code",
   "execution_count": 39,
   "metadata": {},
   "outputs": [],
   "source": [
    "df_train = all_labels.loc[((all_labels['image_index'] >= 1) & (all_labels['image_index'] <= 6000)) | ((all_labels['image_index'] >= 8001) & (all_labels['image_index'] <= 8200)) | ((all_labels['image_index'] >= 8501) & (all_labels['image_index'] <= 8800)) | ((all_labels['image_index'] >= 8901) & (all_labels['image_index'] <= 11150))]\n",
    "df_train.to_csv('112000train.csv', sep=' ', index=False)"
   ]
  },
  {
   "cell_type": "code",
   "execution_count": 40,
   "metadata": {},
   "outputs": [],
   "source": [
    "df_test = all_labels.loc[((all_labels['image_index'] >= 6500) & (all_labels['image_index'] <= 8000)) | ((all_labels['image_index'] >= 8201) & (all_labels['image_index'] <= 8300)) | ((all_labels['image_index'] >= 8801) & (all_labels['image_index'] <= 8900)) | ((all_labels['image_index'] >= 11151) & (all_labels['image_index'] <= 11200))]\n",
    "df_test.to_csv('112000test.csv', sep=' ', index=False)"
   ]
  },
  {
   "cell_type": "code",
   "execution_count": 28,
   "metadata": {},
   "outputs": [],
   "source": [
    "all_labels.to_csv('112000_processed.csv', sep=' ', index=False, header=False)"
   ]
  },
  {
   "cell_type": "code",
   "execution_count": null,
   "metadata": {},
   "outputs": [],
   "source": []
  }
 ],
 "metadata": {
  "kernelspec": {
   "display_name": "Python 3",
   "language": "python",
   "name": "python3"
  },
  "language_info": {
   "codemirror_mode": {
    "name": "ipython",
    "version": 3
   },
   "file_extension": ".py",
   "mimetype": "text/x-python",
   "name": "python",
   "nbconvert_exporter": "python",
   "pygments_lexer": "ipython3",
   "version": "3.6.6"
  }
 },
 "nbformat": 4,
 "nbformat_minor": 2
}
